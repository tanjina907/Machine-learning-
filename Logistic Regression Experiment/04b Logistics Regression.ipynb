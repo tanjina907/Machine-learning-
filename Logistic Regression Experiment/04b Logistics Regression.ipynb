{
 "cells": [
  {
   "cell_type": "markdown",
   "metadata": {},
   "source": [
    "# Logistics Regression\n",
    "\n",
    "Our first classification discussion.\n",
    "\n",
    "Up to now, we were predicting a continuous variable using regression.\n",
    "\n",
    "Now we will predict a probability (continous, in the domain \\[0, 1\\]) that is typically used for binary classification"
   ]
  },
  {
   "cell_type": "markdown",
   "metadata": {},
   "source": [
    "## Binary classification and the logistics regression\n",
    "\n",
    "### Setup\n",
    "\n",
    "We are $(y_i, x_{i,1}, x_{i,2}, ..., x_{i,M})$ for $i=1,...,N$, where $y_i$ is the observed _dependent variable_ (we will have other names for this later), and $x_{i,j}$ is the observed set of _independent variables_ (or __features__).\n",
    "\n",
    "We are assuming a binary classification here.  Specifically, $y$ can only be $1$ or $0$.\n",
    "\n",
    "Typically, when $y=1$ we think of it as the outcome that we care the most about.\n",
    "\n",
    "Very often, the condition that $y=1$ is the minority position.  Think of cases such as:\n",
    "1. Will the applicant default on their loan?\n",
    "2. Will the person be tested positive for COVID-19?\n",
    "  \n",
    "The $x_{i,j}$ represent the facts that we know about the observation:\n",
    "* For the applicant applying for the loan\n",
    "  * what is their income for the past 3 years\n",
    "  * do they own a house or rent?\n",
    "  * How many years were they employed by their current employer\n",
    "* For the person being tested:\n",
    "  * Has any member of their household been tested positive?\n",
    "  * Have they traveled abroad recently?\n",
    "  * What is their age?\n",
    "  \n",
    "__If given the $x$'s, can we predict $y$?__"
   ]
  },
  {
   "cell_type": "markdown",
   "metadata": {},
   "source": [
    "## Predicting the probability that $y=1$\n",
    "\n",
    "Often we want to predict $\\operatorname{Pr}[y=1|x]$.  That is, given the set of independent variables $x$, what is the probability of a \"successful\" outcome?\n",
    "\n",
    "\\[We are dropping the $i$ (observation #) subscript in the below\\]\n",
    "\n",
    "Logistics regression often used to estimate $p=\\operatorname{Pr}[y=1|x]$.  What it does is to use a $log$ transformation to fit a linear model:\n",
    "\n",
    "$$ln \\frac{p}{(1-p)}=\\beta_0 + \\beta_1 x_1 + ... \\beta_m x_m$$\n",
    "or\n",
    "$$p=\\frac{1}{1+e^{\\beta_0 + \\beta_1 x_1 + ... \\beta_m x_m}}$$\n"
   ]
  },
  {
   "cell_type": "markdown",
   "metadata": {},
   "source": [
    "## Estimating the $\\beta$'s\n",
    "\n",
    "Given a dataset of $N$ observations, the estimation of the $\\beta$'s is usually done by optimizing the _log-likelihood_ and using a _gradient descent_ optimization approach.\n",
    "\n",
    "While not absolutely necessary to fully comprehend, it's good to sometimes peek a little under the covers to understand how the parameters $\\beta$'s are estimated.\n",
    "\n",
    "Suppose we have $n$ training observations $(y_1, x_{1,1}, x_{1,2}, ..., x_{1,m}), (y_2, x_{2,1}, x_{2,2}, ..., x_{2,m})$ $\\dots$ $(y_n, x_{n,1}, x_{n,2}, ..., x_{n,m})$\n",
    "\n",
    "Remember, the $y_i$ are either $0$ or $1$.  Let observations be ordered so that the first $k$ observations all have $y_i=1, i=1,\\dots,k$ and the last $n-k$ observations are when $y_i=0, i=k+1,\\dots,n$\n",
    "\n",
    "The probability that we will actually observe those $y$'s, given the inputs $x$'s, is\n",
    "\n",
    "$$L(\\beta_0, \\beta_1,\\dots,\\beta_m) = \\prod_{i=1}^{k}\\frac{1}{1+e^{\\beta_0 + \\beta_1 x_{i,1} + ... \\beta_m x_{i,m}}}\\prod_{i=k+1}^{n}\\frac{e^{\\beta_0 + \\beta_1 x_{i,1} + ... \\beta_m x_{i,m}}}{1+e^{\\beta_0 + \\beta_1 x_{i,1} + ... \\beta_m x_{i,m}}}$$\n",
    "\n",
    "Logistics regression then finds the $\\beta_0, \\beta_1,\\dots,\\beta_m$ that maximizes (the log of) $L(\\beta_0, \\beta_1,\\dots,\\beta_m)$.\n",
    "\n",
    "This is called **maximum likelihood estimation**.\n",
    "\n",
    "In scikit-learn, they also add a 'regularization' term.  There is a choice of $\\frac{1}{C}\\sum_{j=1}^{m}\\beta_j^2$ or\n",
    "$\\frac{1}{C}\\sum_{j=1}^{m}|\\beta_j|$\n",
    "\n",
    "or both!  When it is both, it is called **ElasticNet**."
   ]
  },
  {
   "cell_type": "markdown",
   "metadata": {},
   "source": [
    "Synthetic example.\n",
    "\n",
    "Let $\\tilde{X} = \\epsilon_1,\\dots,\\epsilon_n$ be instances of a (normal/gaussian/bell shaped curve) $N(0,1)$.  That's with mean $0$ and standard deviation of $1$.\n",
    "\n",
    "Let $y_i = \\begin{cases}1 & \\tilde{X}_i > 0 \\\\ \n",
    "0 & \\tilde{X}_i \\le 0 \\end{cases}$\n",
    "\n",
    "Let $X_i = \\begin{cases}\\tilde{X_i} \\times 4 + 0.3 \\times N(0,1) & \\tilde{X}_i > 0 \\\\ \n",
    "\\tilde{X_i} + 0.3 \\times N(0,1) & \\tilde{X}_i \\le 0 \\end{cases}$\n",
    "\n",
    "\n"
   ]
  },
  {
   "cell_type": "code",
   "execution_count": 1,
   "metadata": {},
   "outputs": [
    {
     "data": {
      "image/png": "[encoded data removed]",
      "text/plain": [
       "<Figure size 576x432 with 1 Axes>"
      ]
     },
     "metadata": {
      "needs_background": "light"
     },
     "output_type": "display_data"
    }
   ],
   "source": [
    "# Code source: Gael Varoquaux\n",
    "# License: BSD 3 clause\n",
    "\n",
    "import numpy as np\n",
    "import matplotlib.pyplot as plt\n",
    "\n",
    "from sklearn import linear_model\n",
    "from scipy.special import expit\n",
    "\n",
    "# General a toy dataset:s it's just a straight line with some Gaussian noise:\n",
    "xmin, xmax = -5, 5\n",
    "n_samples = 100\n",
    "np.random.seed(0)\n",
    "X = np.random.normal(size=n_samples)\n",
    "# print('X: ', X)\n",
    "y = (X > 0).astype(float)\n",
    "X[X > 0] *= 4\n",
    "# print('X: ', X)\n",
    "X += .3 * np.random.normal(size=n_samples)\n",
    "# print('X: ', X)\n",
    "\n",
    "X = X[:, np.newaxis]\n",
    "# print('X: ', X)\n",
    "\n",
    "# Fit the classifier\n",
    "clf = linear_model.LogisticRegression(C=1e5)\n",
    "clf.fit(X, y)\n",
    "\n",
    "# and plot the result\n",
    "plt.figure(1, figsize=(8, 6))\n",
    "plt.clf()  # clear current figure.  How nothing to do with the classifier call clf above!!\n",
    "plt.scatter(X.ravel(), y, color='black', zorder=20)\n",
    "X_test = np.linspace(-5, 10, 300)\n",
    "\n",
    "# expit(x) = 1 / ( 1 + exp(-x))\n",
    "loss = expit(X_test * clf.coef_ + clf.intercept_).ravel()\n",
    "plt.plot(X_test, loss, color='red', linewidth=3)\n",
    "\n",
    "ols = linear_model.LinearRegression()\n",
    "ols.fit(X, y)\n",
    "plt.plot(X_test, ols.coef_ * X_test + ols.intercept_, linewidth=1)\n",
    "plt.axhline(.5, color='.5')\n",
    "\n",
    "plt.ylabel('y')\n",
    "plt.xlabel('X')\n",
    "plt.xticks(range(-5, 10))\n",
    "plt.yticks([0, 0.5, 1])\n",
    "plt.ylim(-.25, 1.25)\n",
    "plt.xlim(-4, 10)\n",
    "plt.legend(('Logistic Regression Model', 'Linear Regression Model'),\n",
    "           loc=\"lower right\", fontsize='medium')\n",
    "plt.tight_layout()\n",
    "plt.show()"
   ]
  },
  {
   "cell_type": "code",
   "execution_count": 2,
   "metadata": {},
   "outputs": [
    {
     "name": "stdout",
     "output_type": "stream",
     "text": [
      "\n",
      "Iris types: ['setosa' 'versicolor' 'virginica']\n",
      "\n"
     ]
    },
    {
     "data": {
      "text/html": [
       "<div>\n",
       "<style scoped>\n",
       "    .dataframe tbody tr th:only-of-type {\n",
       "        vertical-align: middle;\n",
       "    }\n",
       "\n",
       "    .dataframe tbody tr th {\n",
       "        vertical-align: top;\n",
       "    }\n",
       "\n",
       "    .dataframe thead th {\n",
       "        text-align: right;\n",
       "    }\n",
       "</style>\n",
       "<table border=\"1\" class=\"dataframe\">\n",
       "  <thead>\n",
       "    <tr style=\"text-align: right;\">\n",
       "      <th></th>\n",
       "      <th>sepal length (cm)</th>\n",
       "      <th>sepal width (cm)</th>\n",
       "      <th>petal length (cm)</th>\n",
       "      <th>petal width (cm)</th>\n",
       "      <th>iris_type</th>\n",
       "      <th>iris_target</th>\n",
       "    </tr>\n",
       "  </thead>\n",
       "  <tbody>\n",
       "    <tr>\n",
       "      <th>0</th>\n",
       "      <td>5.1</td>\n",
       "      <td>3.5</td>\n",
       "      <td>1.4</td>\n",
       "      <td>0.2</td>\n",
       "      <td>setosa</td>\n",
       "      <td>0</td>\n",
       "    </tr>\n",
       "    <tr>\n",
       "      <th>1</th>\n",
       "      <td>4.9</td>\n",
       "      <td>3.0</td>\n",
       "      <td>1.4</td>\n",
       "      <td>0.2</td>\n",
       "      <td>setosa</td>\n",
       "      <td>0</td>\n",
       "    </tr>\n",
       "    <tr>\n",
       "      <th>2</th>\n",
       "      <td>4.7</td>\n",
       "      <td>3.2</td>\n",
       "      <td>1.3</td>\n",
       "      <td>0.2</td>\n",
       "      <td>setosa</td>\n",
       "      <td>0</td>\n",
       "    </tr>\n",
       "    <tr>\n",
       "      <th>3</th>\n",
       "      <td>4.6</td>\n",
       "      <td>3.1</td>\n",
       "      <td>1.5</td>\n",
       "      <td>0.2</td>\n",
       "      <td>setosa</td>\n",
       "      <td>0</td>\n",
       "    </tr>\n",
       "    <tr>\n",
       "      <th>4</th>\n",
       "      <td>5.0</td>\n",
       "      <td>3.6</td>\n",
       "      <td>1.4</td>\n",
       "      <td>0.2</td>\n",
       "      <td>setosa</td>\n",
       "      <td>0</td>\n",
       "    </tr>\n",
       "    <tr>\n",
       "      <th>...</th>\n",
       "      <td>...</td>\n",
       "      <td>...</td>\n",
       "      <td>...</td>\n",
       "      <td>...</td>\n",
       "      <td>...</td>\n",
       "      <td>...</td>\n",
       "    </tr>\n",
       "    <tr>\n",
       "      <th>70</th>\n",
       "      <td>5.9</td>\n",
       "      <td>3.2</td>\n",
       "      <td>4.8</td>\n",
       "      <td>1.8</td>\n",
       "      <td>versicolor</td>\n",
       "      <td>1</td>\n",
       "    </tr>\n",
       "    <tr>\n",
       "      <th>71</th>\n",
       "      <td>6.1</td>\n",
       "      <td>2.8</td>\n",
       "      <td>4.0</td>\n",
       "      <td>1.3</td>\n",
       "      <td>versicolor</td>\n",
       "      <td>1</td>\n",
       "    </tr>\n",
       "    <tr>\n",
       "      <th>72</th>\n",
       "      <td>6.3</td>\n",
       "      <td>2.5</td>\n",
       "      <td>4.9</td>\n",
       "      <td>1.5</td>\n",
       "      <td>versicolor</td>\n",
       "      <td>1</td>\n",
       "    </tr>\n",
       "    <tr>\n",
       "      <th>73</th>\n",
       "      <td>6.1</td>\n",
       "      <td>2.8</td>\n",
       "      <td>4.7</td>\n",
       "      <td>1.2</td>\n",
       "      <td>versicolor</td>\n",
       "      <td>1</td>\n",
       "    </tr>\n",
       "    <tr>\n",
       "      <th>74</th>\n",
       "      <td>6.4</td>\n",
       "      <td>2.9</td>\n",
       "      <td>4.3</td>\n",
       "      <td>1.3</td>\n",
       "      <td>versicolor</td>\n",
       "      <td>1</td>\n",
       "    </tr>\n",
       "  </tbody>\n",
       "</table>\n",
       "<p>75 rows × 6 columns</p>\n",
       "</div>"
      ],
      "text/plain": [
       "    sepal length (cm)  sepal width (cm)  petal length (cm)  petal width (cm)  \\\n",
       "0                 5.1               3.5                1.4               0.2   \n",
       "1                 4.9               3.0                1.4               0.2   \n",
       "2                 4.7               3.2                1.3               0.2   \n",
       "3                 4.6               3.1                1.5               0.2   \n",
       "4                 5.0               3.6                1.4               0.2   \n",
       "..                ...               ...                ...               ...   \n",
       "70                5.9               3.2                4.8               1.8   \n",
       "71                6.1               2.8                4.0               1.3   \n",
       "72                6.3               2.5                4.9               1.5   \n",
       "73                6.1               2.8                4.7               1.2   \n",
       "74                6.4               2.9                4.3               1.3   \n",
       "\n",
       "     iris_type  iris_target  \n",
       "0       setosa            0  \n",
       "1       setosa            0  \n",
       "2       setosa            0  \n",
       "3       setosa            0  \n",
       "4       setosa            0  \n",
       "..         ...          ...  \n",
       "70  versicolor            1  \n",
       "71  versicolor            1  \n",
       "72  versicolor            1  \n",
       "73  versicolor            1  \n",
       "74  versicolor            1  \n",
       "\n",
       "[75 rows x 6 columns]"
      ]
     },
     "execution_count": 2,
     "metadata": {},
     "output_type": "execute_result"
    }
   ],
   "source": [
    "from sklearn import datasets\n",
    "import pandas as pd\n",
    "\n",
    "# import some data to play with\n",
    "iris = datasets.load_iris()\n",
    "iris_df = pd.DataFrame(iris.data, columns=iris.feature_names)\n",
    "iris_df[\"iris_type\"] = iris.target_names[iris.target]\n",
    "iris_df[\"iris_target\"] = iris.target\n",
    "print(f'\\nIris types: {iris.target_names}\\n')\n",
    "iris_df.head(75)"
   ]
  },
  {
   "cell_type": "markdown",
   "metadata": {},
   "source": [
    "# Extending Logistic Regression past Binary Classification\n",
    "\n",
    "In the math that we showed, logistic regression is predicting $\\operatorname{Pr}[Y=1]$ assuming the only choices were $Y=1$ or $Y=0$.\n",
    "\n",
    "In the Iris data, there are 3 choices.\n",
    "\n",
    "Logistic regression can be extended to the 'multinomial' case, and that is done automatically in scikit-learn.\n",
    "\n",
    "There are other ways of extending binary classification models to multi-class cases.  A popular way, called one-versus-rest (OVR), is also available for logistic regression in scikit-learn.  We will devote later more time to discuss this."
   ]
  },
  {
   "cell_type": "markdown",
   "metadata": {},
   "source": [
    "# Plotting regions"
   ]
  },
  {
   "cell_type": "code",
   "execution_count": 3,
   "metadata": {},
   "outputs": [
    {
     "data": {
      "image/png": "[encoded data removed]",
      "text/plain": [
       "<Figure size 288x216 with 1 Axes>"
      ]
     },
     "metadata": {
      "needs_background": "light"
     },
     "output_type": "display_data"
    }
   ],
   "source": [
    "X = iris.data[:, :2]  # we only take the first two features.\n",
    "Y = iris.target\n",
    "\n",
    "logreg = linear_model.LogisticRegression(C=1e5)  \n",
    "\n",
    "# Create an instance of Logistic Regression Classifier and fit the data.\n",
    "logreg.fit(X, Y)\n",
    "\n",
    "# Plot the decision boundary. For that, we will assign a color to each\n",
    "# point in the mesh [x_min, x_max]x[y_min, y_max].\n",
    "x_min, x_max = X[:, 0].min() - .5, X[:, 0].max() + .5\n",
    "y_min, y_max = X[:, 1].min() - .5, X[:, 1].max() + .5\n",
    "h = .02  # step size in the mesh\n",
    "xx, yy = np.meshgrid(np.arange(x_min, x_max, h), np.arange(y_min, y_max, h))\n",
    "xy = np.c_[xx.ravel(), yy.ravel()]\n",
    "Z = logreg.predict(xy)\n",
    "\n",
    "# Put the result into a color plot\n",
    "Z = Z.reshape(xx.shape)\n",
    "plt.figure(1, figsize=(4, 3))\n",
    "plt.pcolormesh(xx, yy, Z, cmap=plt.cm.Paired)\n",
    "\n",
    "# Plot also the training points\n",
    "plt.scatter(X[:, 0], X[:, 1], c=Y, edgecolors='k', cmap=plt.cm.Paired)\n",
    "plt.xlabel('Sepal length')\n",
    "plt.ylabel('Sepal width')\n",
    "\n",
    "plt.xlim(xx.min(), xx.max())\n",
    "plt.ylim(yy.min(), yy.max())\n",
    "# plt.xticks(())\n",
    "# plt.yticks(())\n",
    "\n",
    "plt.show()"
   ]
  },
  {
   "cell_type": "markdown",
   "metadata": {},
   "source": [
    "# Really wanted to use all four attributes of the Iris"
   ]
  },
  {
   "cell_type": "code",
   "execution_count": 4,
   "metadata": {},
   "outputs": [
    {
     "name": "stdout",
     "output_type": "stream",
     "text": [
      "                     Pred-setosa Pred-versicolor  Pred-virginica\n",
      "Act-setosa                    50               0               0\n",
      "Act-versicolor                 0              48               2\n",
      "Act-virginica                  0               1              49\n"
     ]
    }
   ],
   "source": [
    "from sklearn.model_selection import cross_val_score\n",
    "from sklearn.model_selection import LeaveOneOut\n",
    "\n",
    "log_reg = linear_model.LogisticRegression(C=1e5, max_iter=1000)  \n",
    "X = iris.data\n",
    "y = np.array(iris.target_names[iris.target])\n",
    "\n",
    "from sklearn.model_selection import cross_val_predict\n",
    "from sklearn.metrics import confusion_matrix\n",
    "y_pred = cross_val_predict(log_reg, X, y, cv=10)    # LeaveOneOut())\n",
    "conf_mat = confusion_matrix(y, y_pred, labels=iris.target_names)\n",
    "\n",
    "print(f'                ', end='')\n",
    "for name in iris.target_names:\n",
    "    print(f\"{'Pred-' + name:>16}\", end='')\n",
    "print()\n",
    "for i in range(len(iris.target_names)):\n",
    "    print(f'{\"Act-\" + iris.target_names[i]:16}', end='')\n",
    "    for j in range(len(iris.target_names)):\n",
    "          print(f'{conf_mat[i, j]:>16}', end='')\n",
    "    print()\n"
   ]
  }
 ],
 "metadata": {
  "kernelspec": {
   "display_name": "Python 3.10.4 ('python_venv_main')",
   "language": "python",
   "name": "python3"
  },
  "language_info": {
   "codemirror_mode": {
    "name": "ipython",
    "version": 3
   },
   "file_extension": ".py",
   "mimetype": "text/x-python",
   "name": "python",
   "nbconvert_exporter": "python",
   "pygments_lexer": "ipython3",
   "version": "3.10.6"
  },
  "vscode": {
   "interpreter": {
    "hash": "c490737dc5b283106f4e8bad863b1b2cc176f36803aa7766cf3d69f48115a8f8"
   }
  }
 },
 "nbformat": 4,
 "nbformat_minor": 4
}
